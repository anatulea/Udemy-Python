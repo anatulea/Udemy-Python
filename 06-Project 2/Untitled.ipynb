{
 "cells": [
  {
   "cell_type": "code",
   "execution_count": 1,
   "metadata": {},
   "outputs": [],
   "source": [
    "#card\n",
    "#suit, rank, value\n",
    "import random\n",
    "\n",
    "suits = ('Hearts', 'Diamonds', 'Spades', 'Clubs')\n",
    "ranks = ('Two', 'Three', 'Four', 'Five', 'Six', 'Seven', 'Eight', 'Nine', 'Ten', 'Jack', 'Queen', 'King', 'Ace')\n",
    "values = {'Two':2, 'Three':3, 'Four':4, 'Five':5, 'Six':6, 'Seven':7, 'Eight':8, \n",
    "            'Nine':9, 'Ten':10, 'Jack':11, 'Queen':12, 'King':13, 'Ace':14}"
   ]
  },
  {
   "cell_type": "code",
   "execution_count": 2,
   "metadata": {},
   "outputs": [],
   "source": [
    "class Card:\n",
    "    def __init__(self, suit, rank):\n",
    "        self.suit= suit\n",
    "        self.rank = rank\n",
    "        self.value = values[rank]\n",
    "        \n",
    "    def __str__(self):\n",
    "        return self.rank + \" of \"+  self.suit"
   ]
  },
  {
   "cell_type": "code",
   "execution_count": 3,
   "metadata": {},
   "outputs": [],
   "source": [
    "two_hearts = Card(\"Hearts\", \"Two\")"
   ]
  },
  {
   "cell_type": "code",
   "execution_count": 4,
   "metadata": {},
   "outputs": [
    {
     "data": {
      "text/plain": [
       "<__main__.Card at 0x7f9252734430>"
      ]
     },
     "execution_count": 4,
     "metadata": {},
     "output_type": "execute_result"
    }
   ],
   "source": [
    "two_hearts"
   ]
  },
  {
   "cell_type": "code",
   "execution_count": 5,
   "metadata": {},
   "outputs": [
    {
     "name": "stdout",
     "output_type": "stream",
     "text": [
      "Two of Hearts\n"
     ]
    }
   ],
   "source": [
    "print(two_hearts)"
   ]
  },
  {
   "cell_type": "code",
   "execution_count": 6,
   "metadata": {},
   "outputs": [
    {
     "data": {
      "text/plain": [
       "'Hearts'"
      ]
     },
     "execution_count": 6,
     "metadata": {},
     "output_type": "execute_result"
    }
   ],
   "source": [
    "two_hearts.suit"
   ]
  },
  {
   "cell_type": "code",
   "execution_count": 7,
   "metadata": {},
   "outputs": [
    {
     "data": {
      "text/plain": [
       "'Two'"
      ]
     },
     "execution_count": 7,
     "metadata": {},
     "output_type": "execute_result"
    }
   ],
   "source": [
    "two_hearts.rank"
   ]
  },
  {
   "cell_type": "code",
   "execution_count": 8,
   "metadata": {},
   "outputs": [
    {
     "data": {
      "text/plain": [
       "2"
      ]
     },
     "execution_count": 8,
     "metadata": {},
     "output_type": "execute_result"
    }
   ],
   "source": [
    "values[two_hearts.rank]"
   ]
  },
  {
   "cell_type": "code",
   "execution_count": 9,
   "metadata": {},
   "outputs": [
    {
     "data": {
      "text/plain": [
       "2"
      ]
     },
     "execution_count": 9,
     "metadata": {},
     "output_type": "execute_result"
    }
   ],
   "source": [
    "two_hearts.value"
   ]
  },
  {
   "cell_type": "code",
   "execution_count": 10,
   "metadata": {},
   "outputs": [],
   "source": [
    "three_clubs = Card(\"Clubs\",\"Three\")"
   ]
  },
  {
   "cell_type": "code",
   "execution_count": 11,
   "metadata": {},
   "outputs": [
    {
     "data": {
      "text/plain": [
       "True"
      ]
     },
     "execution_count": 11,
     "metadata": {},
     "output_type": "execute_result"
    }
   ],
   "source": [
    "two_hearts.value < three_clubs.value"
   ]
  },
  {
   "cell_type": "code",
   "execution_count": 36,
   "metadata": {},
   "outputs": [],
   "source": [
    "class Deck:\n",
    "    def __init__(self):\n",
    "        self.all_cards= []\n",
    "        \n",
    "        for suit in suits:\n",
    "            for rank in ranks:\n",
    "                created_card =Card(suit, rank)\n",
    "                self.all_cards.append(created_card)\n",
    "                \n",
    "    def shuffle(self):\n",
    "        random.shuffle(self.all_cards)\n",
    "    def deal_one(self):\n",
    "        return self.all_cards.pop()\n",
    "        "
   ]
  },
  {
   "cell_type": "code",
   "execution_count": 37,
   "metadata": {},
   "outputs": [],
   "source": [
    "new_deck = Deck()"
   ]
  },
  {
   "cell_type": "code",
   "execution_count": 22,
   "metadata": {},
   "outputs": [
    {
     "data": {
      "text/plain": [
       "[<__main__.Card at 0x7f9254793970>,\n",
       " <__main__.Card at 0x7f9254793220>,\n",
       " <__main__.Card at 0x7f9254793160>,\n",
       " <__main__.Card at 0x7f9254793f70>,\n",
       " <__main__.Card at 0x7f9254793c10>,\n",
       " <__main__.Card at 0x7f9254793850>,\n",
       " <__main__.Card at 0x7f9254793a30>,\n",
       " <__main__.Card at 0x7f92541e2c70>,\n",
       " <__main__.Card at 0x7f92541e26d0>,\n",
       " <__main__.Card at 0x7f92541e23a0>,\n",
       " <__main__.Card at 0x7f92541e2310>,\n",
       " <__main__.Card at 0x7f92545713d0>,\n",
       " <__main__.Card at 0x7f9254571a90>,\n",
       " <__main__.Card at 0x7f92545718b0>,\n",
       " <__main__.Card at 0x7f92545719d0>,\n",
       " <__main__.Card at 0x7f9254571940>,\n",
       " <__main__.Card at 0x7f9254571d30>,\n",
       " <__main__.Card at 0x7f9254571ca0>,\n",
       " <__main__.Card at 0x7f9254571a30>,\n",
       " <__main__.Card at 0x7f9254571cd0>,\n",
       " <__main__.Card at 0x7f9254571ee0>,\n",
       " <__main__.Card at 0x7f9254571e50>,\n",
       " <__main__.Card at 0x7f9254571dc0>,\n",
       " <__main__.Card at 0x7f9254571eb0>,\n",
       " <__main__.Card at 0x7f9254571d90>,\n",
       " <__main__.Card at 0x7f9254571b80>,\n",
       " <__main__.Card at 0x7f9254571bb0>,\n",
       " <__main__.Card at 0x7f9254022130>,\n",
       " <__main__.Card at 0x7f925428ea30>,\n",
       " <__main__.Card at 0x7f92542922b0>,\n",
       " <__main__.Card at 0x7f9254292af0>,\n",
       " <__main__.Card at 0x7f9254292760>,\n",
       " <__main__.Card at 0x7f92526e9550>,\n",
       " <__main__.Card at 0x7f9254144b20>,\n",
       " <__main__.Card at 0x7f9254144760>,\n",
       " <__main__.Card at 0x7f9254144be0>,\n",
       " <__main__.Card at 0x7f925476c250>,\n",
       " <__main__.Card at 0x7f925476c2b0>,\n",
       " <__main__.Card at 0x7f925476c1f0>,\n",
       " <__main__.Card at 0x7f925476cc70>,\n",
       " <__main__.Card at 0x7f925476ceb0>,\n",
       " <__main__.Card at 0x7f925476c220>,\n",
       " <__main__.Card at 0x7f925476c3a0>,\n",
       " <__main__.Card at 0x7f925476c340>,\n",
       " <__main__.Card at 0x7f925476c130>,\n",
       " <__main__.Card at 0x7f925476c550>,\n",
       " <__main__.Card at 0x7f925476cf40>,\n",
       " <__main__.Card at 0x7f925476c760>,\n",
       " <__main__.Card at 0x7f925476c580>,\n",
       " <__main__.Card at 0x7f925476ca00>,\n",
       " <__main__.Card at 0x7f925476c460>,\n",
       " <__main__.Card at 0x7f925476c5e0>]"
      ]
     },
     "execution_count": 22,
     "metadata": {},
     "output_type": "execute_result"
    }
   ],
   "source": [
    "new_deck.all_cards"
   ]
  },
  {
   "cell_type": "code",
   "execution_count": 23,
   "metadata": {},
   "outputs": [
    {
     "data": {
      "text/plain": [
       "<__main__.Card at 0x7f9254793970>"
      ]
     },
     "execution_count": 23,
     "metadata": {},
     "output_type": "execute_result"
    }
   ],
   "source": [
    "new_deck.all_cards[0]"
   ]
  },
  {
   "cell_type": "code",
   "execution_count": 24,
   "metadata": {},
   "outputs": [
    {
     "name": "stdout",
     "output_type": "stream",
     "text": [
      "Two of Hearts\n",
      "Ace of Clubs\n"
     ]
    }
   ],
   "source": [
    "first_card=new_deck.all_cards[0]\n",
    "last_card=new_deck.all_cards[-1]\n",
    "print(first_card)\n",
    "print(last_card)"
   ]
  },
  {
   "cell_type": "code",
   "execution_count": 26,
   "metadata": {},
   "outputs": [
    {
     "name": "stdout",
     "output_type": "stream",
     "text": [
      "Two of Hearts\n",
      "Three of Hearts\n",
      "Four of Hearts\n",
      "Five of Hearts\n",
      "Six of Hearts\n",
      "Seven of Hearts\n",
      "Eight of Hearts\n",
      "Nine of Hearts\n",
      "Ten of Hearts\n",
      "Jack of Hearts\n",
      "Queen of Hearts\n",
      "King of Hearts\n",
      "Ace of Hearts\n",
      "Two of Diamonds\n",
      "Three of Diamonds\n",
      "Four of Diamonds\n",
      "Five of Diamonds\n",
      "Six of Diamonds\n",
      "Seven of Diamonds\n",
      "Eight of Diamonds\n",
      "Nine of Diamonds\n",
      "Ten of Diamonds\n",
      "Jack of Diamonds\n",
      "Queen of Diamonds\n",
      "King of Diamonds\n",
      "Ace of Diamonds\n",
      "Two of Spades\n",
      "Three of Spades\n",
      "Four of Spades\n",
      "Five of Spades\n",
      "Six of Spades\n",
      "Seven of Spades\n",
      "Eight of Spades\n",
      "Nine of Spades\n",
      "Ten of Spades\n",
      "Jack of Spades\n",
      "Queen of Spades\n",
      "King of Spades\n",
      "Ace of Spades\n",
      "Two of Clubs\n",
      "Three of Clubs\n",
      "Four of Clubs\n",
      "Five of Clubs\n",
      "Six of Clubs\n",
      "Seven of Clubs\n",
      "Eight of Clubs\n",
      "Nine of Clubs\n",
      "Ten of Clubs\n",
      "Jack of Clubs\n",
      "Queen of Clubs\n",
      "King of Clubs\n",
      "Ace of Clubs\n"
     ]
    }
   ],
   "source": [
    "for card_object in new_deck.all_cards:\n",
    "    print(card_object)"
   ]
  },
  {
   "cell_type": "code",
   "execution_count": 38,
   "metadata": {},
   "outputs": [],
   "source": [
    "new_deck.shuffle()"
   ]
  },
  {
   "cell_type": "code",
   "execution_count": 39,
   "metadata": {},
   "outputs": [
    {
     "name": "stdout",
     "output_type": "stream",
     "text": [
      "Jack of Hearts\n",
      "Queen of Spades\n",
      "Four of Clubs\n",
      "Six of Hearts\n",
      "King of Hearts\n",
      "Nine of Clubs\n",
      "King of Clubs\n",
      "Ace of Spades\n",
      "Ace of Hearts\n",
      "Seven of Diamonds\n",
      "Five of Hearts\n",
      "Ten of Diamonds\n",
      "Six of Clubs\n",
      "Eight of Hearts\n",
      "King of Diamonds\n",
      "Five of Clubs\n",
      "Three of Spades\n",
      "Eight of Clubs\n",
      "Ace of Clubs\n",
      "Seven of Spades\n",
      "Queen of Diamonds\n",
      "Eight of Spades\n",
      "Seven of Hearts\n",
      "Eight of Diamonds\n",
      "Six of Diamonds\n",
      "Jack of Diamonds\n",
      "Jack of Clubs\n",
      "Five of Diamonds\n",
      "Ten of Clubs\n",
      "Jack of Spades\n",
      "Queen of Hearts\n",
      "Four of Diamonds\n",
      "Two of Diamonds\n",
      "Nine of Spades\n",
      "Three of Diamonds\n",
      "Three of Clubs\n",
      "King of Spades\n",
      "Queen of Clubs\n",
      "Two of Clubs\n",
      "Ten of Hearts\n",
      "Four of Spades\n",
      "Seven of Clubs\n",
      "Five of Spades\n",
      "Six of Spades\n",
      "Ten of Spades\n",
      "Ace of Diamonds\n",
      "Two of Spades\n",
      "Four of Hearts\n",
      "Nine of Hearts\n",
      "Nine of Diamonds\n",
      "Two of Hearts\n",
      "Three of Hearts\n"
     ]
    }
   ],
   "source": [
    "for card_object in new_deck.all_cards:\n",
    "    print(card_object)"
   ]
  },
  {
   "cell_type": "code",
   "execution_count": 40,
   "metadata": {},
   "outputs": [
    {
     "name": "stdout",
     "output_type": "stream",
     "text": [
      "Three of Hearts\n"
     ]
    }
   ],
   "source": [
    "last_card=new_deck.all_cards[-1]\n",
    "print(last_card)"
   ]
  },
  {
   "cell_type": "code",
   "execution_count": 45,
   "metadata": {},
   "outputs": [],
   "source": [
    "mycard = new_deck.deal_one()"
   ]
  },
  {
   "cell_type": "code",
   "execution_count": 48,
   "metadata": {},
   "outputs": [
    {
     "name": "stdout",
     "output_type": "stream",
     "text": [
      "Nine of Diamonds\n"
     ]
    }
   ],
   "source": [
    "print(mycard)"
   ]
  },
  {
   "cell_type": "code",
   "execution_count": 50,
   "metadata": {},
   "outputs": [
    {
     "data": {
      "text/plain": [
       "49"
      ]
     },
     "execution_count": 50,
     "metadata": {},
     "output_type": "execute_result"
    }
   ],
   "source": [
    "len(new_deck.all_cards)"
   ]
  },
  {
   "cell_type": "code",
   "execution_count": null,
   "metadata": {},
   "outputs": [],
   "source": []
  }
 ],
 "metadata": {
  "kernelspec": {
   "display_name": "Python 3",
   "language": "python",
   "name": "python3"
  },
  "language_info": {
   "codemirror_mode": {
    "name": "ipython",
    "version": 3
   },
   "file_extension": ".py",
   "mimetype": "text/x-python",
   "name": "python",
   "nbconvert_exporter": "python",
   "pygments_lexer": "ipython3",
   "version": "3.8.3"
  }
 },
 "nbformat": 4,
 "nbformat_minor": 4
}
