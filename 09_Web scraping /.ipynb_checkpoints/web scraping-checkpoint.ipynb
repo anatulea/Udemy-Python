{
 "cells": [
  {
   "cell_type": "markdown",
   "metadata": {},
   "source": [
    "## Grabbing a Title"
   ]
  },
  {
   "cell_type": "code",
   "execution_count": 1,
   "metadata": {},
   "outputs": [],
   "source": [
    "import requests"
   ]
  },
  {
   "cell_type": "code",
   "execution_count": 2,
   "metadata": {},
   "outputs": [],
   "source": [
    "import bs4 # beautiful soup"
   ]
  },
  {
   "cell_type": "code",
   "execution_count": 3,
   "metadata": {},
   "outputs": [],
   "source": [
    "result  = requests.get('http://example.com/')"
   ]
  },
  {
   "cell_type": "code",
   "execution_count": 4,
   "metadata": {},
   "outputs": [
    {
     "data": {
      "text/plain": [
       "requests.models.Response"
      ]
     },
     "execution_count": 4,
     "metadata": {},
     "output_type": "execute_result"
    }
   ],
   "source": [
    "type(result)"
   ]
  },
  {
   "cell_type": "code",
   "execution_count": 5,
   "metadata": {},
   "outputs": [
    {
     "data": {
      "text/plain": [
       "'<!doctype html>\\n<html>\\n<head>\\n    <title>Example Domain</title>\\n\\n    <meta charset=\"utf-8\" />\\n    <meta http-equiv=\"Content-type\" content=\"text/html; charset=utf-8\" />\\n    <meta name=\"viewport\" content=\"width=device-width, initial-scale=1\" />\\n    <style type=\"text/css\">\\n    body {\\n        background-color: #f0f0f2;\\n        margin: 0;\\n        padding: 0;\\n        font-family: -apple-system, system-ui, BlinkMacSystemFont, \"Segoe UI\", \"Open Sans\", \"Helvetica Neue\", Helvetica, Arial, sans-serif;\\n        \\n    }\\n    div {\\n        width: 600px;\\n        margin: 5em auto;\\n        padding: 2em;\\n        background-color: #fdfdff;\\n        border-radius: 0.5em;\\n        box-shadow: 2px 3px 7px 2px rgba(0,0,0,0.02);\\n    }\\n    a:link, a:visited {\\n        color: #38488f;\\n        text-decoration: none;\\n    }\\n    @media (max-width: 700px) {\\n        div {\\n            margin: 0 auto;\\n            width: auto;\\n        }\\n    }\\n    </style>    \\n</head>\\n\\n<body>\\n<div>\\n    <h1>Example Domain</h1>\\n    <p>This domain is for use in illustrative examples in documents. You may use this\\n    domain in literature without prior coordination or asking for permission.</p>\\n    <p><a href=\"https://www.iana.org/domains/example\">More information...</a></p>\\n</div>\\n</body>\\n</html>\\n'"
      ]
     },
     "execution_count": 5,
     "metadata": {},
     "output_type": "execute_result"
    }
   ],
   "source": [
    "result.text"
   ]
  },
  {
   "cell_type": "code",
   "execution_count": 6,
   "metadata": {},
   "outputs": [],
   "source": [
    "soup = bs4.BeautifulSoup(result.text, 'lxml')"
   ]
  },
  {
   "cell_type": "code",
   "execution_count": 7,
   "metadata": {},
   "outputs": [
    {
     "data": {
      "text/plain": [
       "<!DOCTYPE html>\n",
       "<html>\n",
       "<head>\n",
       "<title>Example Domain</title>\n",
       "<meta charset=\"utf-8\"/>\n",
       "<meta content=\"text/html; charset=utf-8\" http-equiv=\"Content-type\"/>\n",
       "<meta content=\"width=device-width, initial-scale=1\" name=\"viewport\"/>\n",
       "<style type=\"text/css\">\n",
       "    body {\n",
       "        background-color: #f0f0f2;\n",
       "        margin: 0;\n",
       "        padding: 0;\n",
       "        font-family: -apple-system, system-ui, BlinkMacSystemFont, \"Segoe UI\", \"Open Sans\", \"Helvetica Neue\", Helvetica, Arial, sans-serif;\n",
       "        \n",
       "    }\n",
       "    div {\n",
       "        width: 600px;\n",
       "        margin: 5em auto;\n",
       "        padding: 2em;\n",
       "        background-color: #fdfdff;\n",
       "        border-radius: 0.5em;\n",
       "        box-shadow: 2px 3px 7px 2px rgba(0,0,0,0.02);\n",
       "    }\n",
       "    a:link, a:visited {\n",
       "        color: #38488f;\n",
       "        text-decoration: none;\n",
       "    }\n",
       "    @media (max-width: 700px) {\n",
       "        div {\n",
       "            margin: 0 auto;\n",
       "            width: auto;\n",
       "        }\n",
       "    }\n",
       "    </style>\n",
       "</head>\n",
       "<body>\n",
       "<div>\n",
       "<h1>Example Domain</h1>\n",
       "<p>This domain is for use in illustrative examples in documents. You may use this\n",
       "    domain in literature without prior coordination or asking for permission.</p>\n",
       "<p><a href=\"https://www.iana.org/domains/example\">More information...</a></p>\n",
       "</div>\n",
       "</body>\n",
       "</html>"
      ]
     },
     "execution_count": 7,
     "metadata": {},
     "output_type": "execute_result"
    }
   ],
   "source": [
    "soup"
   ]
  },
  {
   "cell_type": "code",
   "execution_count": 8,
   "metadata": {},
   "outputs": [],
   "source": [
    "site_para = soup.select('p')"
   ]
  },
  {
   "cell_type": "code",
   "execution_count": 9,
   "metadata": {},
   "outputs": [
    {
     "data": {
      "text/plain": [
       "[<title>Example Domain</title>]"
      ]
     },
     "execution_count": 9,
     "metadata": {},
     "output_type": "execute_result"
    }
   ],
   "source": [
    "soup.select('title')"
   ]
  },
  {
   "cell_type": "code",
   "execution_count": 10,
   "metadata": {},
   "outputs": [
    {
     "data": {
      "text/plain": [
       "[<p>This domain is for use in illustrative examples in documents. You may use this\n",
       "     domain in literature without prior coordination or asking for permission.</p>,\n",
       " <p><a href=\"https://www.iana.org/domains/example\">More information...</a></p>]"
      ]
     },
     "execution_count": 10,
     "metadata": {},
     "output_type": "execute_result"
    }
   ],
   "source": [
    "soup.select('p')"
   ]
  },
  {
   "cell_type": "code",
   "execution_count": 11,
   "metadata": {},
   "outputs": [
    {
     "data": {
      "text/plain": [
       "'Example Domain'"
      ]
     },
     "execution_count": 11,
     "metadata": {},
     "output_type": "execute_result"
    }
   ],
   "source": [
    "soup.select('title')[0].getText()"
   ]
  },
  {
   "cell_type": "code",
   "execution_count": 12,
   "metadata": {},
   "outputs": [
    {
     "data": {
      "text/plain": [
       "'This domain is for use in illustrative examples in documents. You may use this\\n    domain in literature without prior coordination or asking for permission.'"
      ]
     },
     "execution_count": 12,
     "metadata": {},
     "output_type": "execute_result"
    }
   ],
   "source": [
    "site_para[0].getText()"
   ]
  },
  {
   "cell_type": "markdown",
   "metadata": {},
   "source": [
    "## Grabbing a Class"
   ]
  },
  {
   "cell_type": "code",
   "execution_count": 13,
   "metadata": {},
   "outputs": [],
   "source": [
    "res = requests.get('https://en.wikipedia.org/wiki/Jonas_Salk')"
   ]
  },
  {
   "cell_type": "code",
   "execution_count": 14,
   "metadata": {},
   "outputs": [],
   "source": [
    "soup = bs4.BeautifulSoup(res.text, 'lxml')"
   ]
  },
  {
   "cell_type": "code",
   "execution_count": 15,
   "metadata": {},
   "outputs": [],
   "source": [
    "# soup"
   ]
  },
  {
   "cell_type": "code",
   "execution_count": 16,
   "metadata": {},
   "outputs": [
    {
     "data": {
      "text/plain": [
       "[<span class=\"toctext\">Early life and education</span>,\n",
       " <span class=\"toctext\">Education</span>,\n",
       " <span class=\"toctext\">Medical school</span>,\n",
       " <span class=\"toctext\">Postgraduate research and early laboratory work</span>,\n",
       " <span class=\"toctext\">Polio research</span>,\n",
       " <span class=\"toctext\">Becoming a public figure</span>,\n",
       " <span class=\"toctext\">Celebrity versus privacy</span>,\n",
       " <span class=\"toctext\">Maintaining his individuality</span>,\n",
       " <span class=\"toctext\">Establishing the Salk Institute</span>,\n",
       " <span class=\"toctext\">AIDS vaccine work</span>,\n",
       " <span class=\"toctext\">Salk's \"biophilosophy\"</span>,\n",
       " <span class=\"toctext\">Personal life</span>,\n",
       " <span class=\"toctext\">Honors and recognition</span>,\n",
       " <span class=\"toctext\">Documentary films</span>,\n",
       " <span class=\"toctext\">Salk's book publications</span>,\n",
       " <span class=\"toctext\">See also</span>,\n",
       " <span class=\"toctext\">References</span>,\n",
       " <span class=\"toctext\">Further reading</span>,\n",
       " <span class=\"toctext\">External links</span>]"
      ]
     },
     "execution_count": 16,
     "metadata": {},
     "output_type": "execute_result"
    }
   ],
   "source": [
    "soup.select('.toctext')"
   ]
  },
  {
   "cell_type": "code",
   "execution_count": 17,
   "metadata": {},
   "outputs": [],
   "source": [
    " my_first_item = soup.select('.toctext')[0]"
   ]
  },
  {
   "cell_type": "code",
   "execution_count": 18,
   "metadata": {},
   "outputs": [
    {
     "name": "stdout",
     "output_type": "stream",
     "text": [
      "<span class=\"toctext\">Early life and education</span>\n"
     ]
    }
   ],
   "source": [
    "print(my_first_item)\n",
    "    "
   ]
  },
  {
   "cell_type": "code",
   "execution_count": 19,
   "metadata": {},
   "outputs": [
    {
     "name": "stdout",
     "output_type": "stream",
     "text": [
      "Early life and education\n",
      "Education\n",
      "Medical school\n",
      "Postgraduate research and early laboratory work\n",
      "Polio research\n",
      "Becoming a public figure\n",
      "Celebrity versus privacy\n",
      "Maintaining his individuality\n",
      "Establishing the Salk Institute\n",
      "AIDS vaccine work\n",
      "Salk's \"biophilosophy\"\n",
      "Personal life\n",
      "Honors and recognition\n",
      "Documentary films\n",
      "Salk's book publications\n",
      "See also\n",
      "References\n",
      "Further reading\n",
      "External links\n"
     ]
    }
   ],
   "source": [
    "for item in soup.select('.toctext'):\n",
    "    print(item.text)"
   ]
  },
  {
   "cell_type": "markdown",
   "metadata": {},
   "source": [
    "## Grabbing an Image"
   ]
  },
  {
   "cell_type": "code",
   "execution_count": 20,
   "metadata": {},
   "outputs": [],
   "source": [
    "res =requests.get('https://en.wikipedia.org/wiki/Llama')"
   ]
  },
  {
   "cell_type": "code",
   "execution_count": 21,
   "metadata": {},
   "outputs": [],
   "source": [
    "soup =bs4.BeautifulSoup(res.text, 'lxml')"
   ]
  },
  {
   "cell_type": "code",
   "execution_count": 22,
   "metadata": {},
   "outputs": [
    {
     "data": {
      "text/plain": [
       "[<img alt=\"Page semi-protected\" data-file-height=\"512\" data-file-width=\"512\" decoding=\"async\" height=\"20\" src=\"//upload.wikimedia.org/wikipedia/en/thumb/1/1b/Semi-protection-shackle.svg/20px-Semi-protection-shackle.svg.png\" srcset=\"//upload.wikimedia.org/wikipedia/en/thumb/1/1b/Semi-protection-shackle.svg/30px-Semi-protection-shackle.svg.png 1.5x, //upload.wikimedia.org/wikipedia/en/thumb/1/1b/Semi-protection-shackle.svg/40px-Semi-protection-shackle.svg.png 2x\" width=\"20\"/>,\n",
       " <img alt=\"Llama lying down.jpg\" data-file-height=\"2304\" data-file-width=\"3456\" decoding=\"async\" height=\"147\" src=\"//upload.wikimedia.org/wikipedia/commons/thumb/b/b9/Llama_lying_down.jpg/220px-Llama_lying_down.jpg\" srcset=\"//upload.wikimedia.org/wikipedia/commons/thumb/b/b9/Llama_lying_down.jpg/330px-Llama_lying_down.jpg 1.5x, //upload.wikimedia.org/wikipedia/commons/thumb/b/b9/Llama_lying_down.jpg/440px-Llama_lying_down.jpg 2x\" width=\"220\"/>,\n",
       " <img alt=\"edit\" data-file-height=\"16\" data-file-width=\"16\" decoding=\"async\" height=\"16\" src=\"//upload.wikimedia.org/wikipedia/commons/7/74/Red_Pencil_Icon.png\" width=\"16\"/>,\n",
       " <img alt=\"Lama glama Vicugna pacos range.png\" data-file-height=\"625\" data-file-width=\"1480\" decoding=\"async\" height=\"93\" src=\"//upload.wikimedia.org/wikipedia/commons/thumb/d/d5/Lama_glama_Vicugna_pacos_range.png/220px-Lama_glama_Vicugna_pacos_range.png\" srcset=\"//upload.wikimedia.org/wikipedia/commons/thumb/d/d5/Lama_glama_Vicugna_pacos_range.png/330px-Lama_glama_Vicugna_pacos_range.png 1.5x, //upload.wikimedia.org/wikipedia/commons/thumb/d/d5/Lama_glama_Vicugna_pacos_range.png/440px-Lama_glama_Vicugna_pacos_range.png 2x\" width=\"220\"/>,\n",
       " <img alt=\"\" class=\"thumbimage\" data-file-height=\"3072\" data-file-width=\"2304\" decoding=\"async\" height=\"293\" src=\"//upload.wikimedia.org/wikipedia/commons/thumb/3/37/A_Quechua_girl_and_her_Llama.jpg/220px-A_Quechua_girl_and_her_Llama.jpg\" srcset=\"//upload.wikimedia.org/wikipedia/commons/thumb/3/37/A_Quechua_girl_and_her_Llama.jpg/330px-A_Quechua_girl_and_her_Llama.jpg 1.5x, //upload.wikimedia.org/wikipedia/commons/thumb/3/37/A_Quechua_girl_and_her_Llama.jpg/440px-A_Quechua_girl_and_her_Llama.jpg 2x\" width=\"220\"/>,\n",
       " <img alt=\"\" class=\"thumbimage\" data-file-height=\"1944\" data-file-width=\"2592\" decoding=\"async\" height=\"165\" src=\"//upload.wikimedia.org/wikipedia/commons/thumb/b/b8/Domestic_llama_%282009-05-19%29.jpg/220px-Domestic_llama_%282009-05-19%29.jpg\" srcset=\"//upload.wikimedia.org/wikipedia/commons/thumb/b/b8/Domestic_llama_%282009-05-19%29.jpg/330px-Domestic_llama_%282009-05-19%29.jpg 1.5x, //upload.wikimedia.org/wikipedia/commons/thumb/b/b8/Domestic_llama_%282009-05-19%29.jpg/440px-Domestic_llama_%282009-05-19%29.jpg 2x\" width=\"220\"/>,\n",
       " <img alt=\"\" class=\"thumbimage\" data-file-height=\"3330\" data-file-width=\"2663\" decoding=\"async\" height=\"375\" src=\"//upload.wikimedia.org/wikipedia/commons/thumb/7/7b/Llama_skeleton_at_MAV-USP.jpg/300px-Llama_skeleton_at_MAV-USP.jpg\" srcset=\"//upload.wikimedia.org/wikipedia/commons/thumb/7/7b/Llama_skeleton_at_MAV-USP.jpg/450px-Llama_skeleton_at_MAV-USP.jpg 1.5x, //upload.wikimedia.org/wikipedia/commons/thumb/7/7b/Llama_skeleton_at_MAV-USP.jpg/600px-Llama_skeleton_at_MAV-USP.jpg 2x\" width=\"300\"/>,\n",
       " <img alt=\"\" class=\"thumbimage\" data-file-height=\"1054\" data-file-width=\"1022\" decoding=\"async\" height=\"309\" src=\"//upload.wikimedia.org/wikipedia/commons/thumb/e/ed/Llama_with_numbers.svg/300px-Llama_with_numbers.svg.png\" srcset=\"//upload.wikimedia.org/wikipedia/commons/thumb/e/ed/Llama_with_numbers.svg/450px-Llama_with_numbers.svg.png 1.5x, //upload.wikimedia.org/wikipedia/commons/thumb/e/ed/Llama_with_numbers.svg/600px-Llama_with_numbers.svg.png 2x\" width=\"300\"/>,\n",
       " <img alt=\"\" class=\"thumbimage\" data-file-height=\"4000\" data-file-width=\"6000\" decoding=\"async\" height=\"147\" src=\"//upload.wikimedia.org/wikipedia/commons/thumb/2/2e/Lama_glama_Laguna_Colorada_2.jpg/220px-Lama_glama_Laguna_Colorada_2.jpg\" srcset=\"//upload.wikimedia.org/wikipedia/commons/thumb/2/2e/Lama_glama_Laguna_Colorada_2.jpg/330px-Lama_glama_Laguna_Colorada_2.jpg 1.5x, //upload.wikimedia.org/wikipedia/commons/thumb/2/2e/Lama_glama_Laguna_Colorada_2.jpg/440px-Lama_glama_Laguna_Colorada_2.jpg 2x\" width=\"220\"/>,\n",
       " <img alt=\"\" class=\"thumbimage\" data-file-height=\"3648\" data-file-width=\"5472\" decoding=\"async\" height=\"200\" src=\"//upload.wikimedia.org/wikipedia/commons/thumb/c/cd/Black_Llama.jpg/300px-Black_Llama.jpg\" srcset=\"//upload.wikimedia.org/wikipedia/commons/thumb/c/cd/Black_Llama.jpg/450px-Black_Llama.jpg 1.5x, //upload.wikimedia.org/wikipedia/commons/thumb/c/cd/Black_Llama.jpg/600px-Black_Llama.jpg 2x\" width=\"300\"/>,\n",
       " <img alt=\"\" class=\"thumbimage\" data-file-height=\"600\" data-file-width=\"800\" decoding=\"async\" height=\"165\" src=\"//upload.wikimedia.org/wikipedia/commons/thumb/6/68/Lloyd_the_Llama.jpg/220px-Lloyd_the_Llama.jpg\" srcset=\"//upload.wikimedia.org/wikipedia/commons/thumb/6/68/Lloyd_the_Llama.jpg/330px-Lloyd_the_Llama.jpg 1.5x, //upload.wikimedia.org/wikipedia/commons/thumb/6/68/Lloyd_the_Llama.jpg/440px-Lloyd_the_Llama.jpg 2x\" width=\"220\"/>,\n",
       " <img alt=\"\" class=\"thumbimage\" data-file-height=\"2592\" data-file-width=\"3888\" decoding=\"async\" height=\"150\" src=\"//upload.wikimedia.org/wikipedia/commons/thumb/c/c0/Llama_guarding_sheep.jpg/225px-Llama_guarding_sheep.jpg\" srcset=\"//upload.wikimedia.org/wikipedia/commons/thumb/c/c0/Llama_guarding_sheep.jpg/338px-Llama_guarding_sheep.jpg 1.5x, //upload.wikimedia.org/wikipedia/commons/thumb/c/c0/Llama_guarding_sheep.jpg/450px-Llama_guarding_sheep.jpg 2x\" width=\"225\"/>,\n",
       " <img alt=\"\" class=\"thumbimage\" data-file-height=\"1980\" data-file-width=\"2021\" decoding=\"async\" height=\"216\" src=\"//upload.wikimedia.org/wikipedia/commons/thumb/0/0e/Lombards_Museum_005_bis.jpg/220px-Lombards_Museum_005_bis.jpg\" srcset=\"//upload.wikimedia.org/wikipedia/commons/thumb/0/0e/Lombards_Museum_005_bis.jpg/330px-Lombards_Museum_005_bis.jpg 1.5x, //upload.wikimedia.org/wikipedia/commons/thumb/0/0e/Lombards_Museum_005_bis.jpg/440px-Lombards_Museum_005_bis.jpg 2x\" width=\"220\"/>,\n",
       " <img alt=\"\" class=\"thumbimage\" data-file-height=\"1800\" data-file-width=\"1662\" decoding=\"async\" height=\"238\" src=\"//upload.wikimedia.org/wikipedia/commons/thumb/8/83/Chancay_-_Llama_Effigy_-_Walters_20092049.jpg/220px-Chancay_-_Llama_Effigy_-_Walters_20092049.jpg\" srcset=\"//upload.wikimedia.org/wikipedia/commons/thumb/8/83/Chancay_-_Llama_Effigy_-_Walters_20092049.jpg/330px-Chancay_-_Llama_Effigy_-_Walters_20092049.jpg 1.5x, //upload.wikimedia.org/wikipedia/commons/thumb/8/83/Chancay_-_Llama_Effigy_-_Walters_20092049.jpg/440px-Chancay_-_Llama_Effigy_-_Walters_20092049.jpg 2x\" width=\"220\"/>,\n",
       " <img alt=\"\" class=\"thumbimage\" data-file-height=\"434\" data-file-width=\"408\" decoding=\"async\" height=\"234\" src=\"//upload.wikimedia.org/wikipedia/commons/thumb/d/d1/Guanacos-llamas-el-primero-imagen-en-europa-1553.jpg/220px-Guanacos-llamas-el-primero-imagen-en-europa-1553.jpg\" srcset=\"//upload.wikimedia.org/wikipedia/commons/thumb/d/d1/Guanacos-llamas-el-primero-imagen-en-europa-1553.jpg/330px-Guanacos-llamas-el-primero-imagen-en-europa-1553.jpg 1.5x, //upload.wikimedia.org/wikipedia/commons/d/d1/Guanacos-llamas-el-primero-imagen-en-europa-1553.jpg 2x\" width=\"220\"/>,\n",
       " <img alt=\"\" class=\"thumbimage\" data-file-height=\"723\" data-file-width=\"1024\" decoding=\"async\" height=\"155\" src=\"//upload.wikimedia.org/wikipedia/commons/thumb/d/d7/Handspun_llama_yarn.jpg/220px-Handspun_llama_yarn.jpg\" srcset=\"//upload.wikimedia.org/wikipedia/commons/thumb/d/d7/Handspun_llama_yarn.jpg/330px-Handspun_llama_yarn.jpg 1.5x, //upload.wikimedia.org/wikipedia/commons/thumb/d/d7/Handspun_llama_yarn.jpg/440px-Handspun_llama_yarn.jpg 2x\" width=\"220\"/>,\n",
       " <img alt=\"\" class=\"noviewer\" data-file-height=\"1000\" data-file-width=\"1550\" decoding=\"async\" height=\"21\" src=\"//upload.wikimedia.org/wikipedia/commons/thumb/5/5e/Ausangate-hillside-MT.jpg/32px-Ausangate-hillside-MT.jpg\" srcset=\"//upload.wikimedia.org/wikipedia/commons/thumb/5/5e/Ausangate-hillside-MT.jpg/48px-Ausangate-hillside-MT.jpg 1.5x, //upload.wikimedia.org/wikipedia/commons/thumb/5/5e/Ausangate-hillside-MT.jpg/64px-Ausangate-hillside-MT.jpg 2x\" width=\"32\"/>,\n",
       " <img alt=\"\" class=\"noviewer\" data-file-height=\"1103\" data-file-width=\"941\" decoding=\"async\" height=\"40\" src=\"//upload.wikimedia.org/wikipedia/commons/thumb/d/df/Wikispecies-logo.svg/34px-Wikispecies-logo.svg.png\" srcset=\"//upload.wikimedia.org/wikipedia/commons/thumb/d/df/Wikispecies-logo.svg/51px-Wikispecies-logo.svg.png 1.5x, //upload.wikimedia.org/wikipedia/commons/thumb/d/df/Wikispecies-logo.svg/68px-Wikispecies-logo.svg.png 2x\" width=\"34\"/>,\n",
       " <img alt=\"\" class=\"noviewer\" data-file-height=\"1376\" data-file-width=\"1024\" decoding=\"async\" height=\"40\" src=\"//upload.wikimedia.org/wikipedia/en/thumb/4/4a/Commons-logo.svg/30px-Commons-logo.svg.png\" srcset=\"//upload.wikimedia.org/wikipedia/en/thumb/4/4a/Commons-logo.svg/45px-Commons-logo.svg.png 1.5x, //upload.wikimedia.org/wikipedia/en/thumb/4/4a/Commons-logo.svg/59px-Commons-logo.svg.png 2x\" width=\"30\"/>,\n",
       " <img alt=\"\" class=\"noviewer\" data-file-height=\"512\" data-file-width=\"512\" decoding=\"async\" height=\"16\" src=\"//upload.wikimedia.org/wikipedia/commons/thumb/9/99/Wiktionary-logo-en-v2.svg/16px-Wiktionary-logo-en-v2.svg.png\" srcset=\"//upload.wikimedia.org/wikipedia/commons/thumb/9/99/Wiktionary-logo-en-v2.svg/24px-Wiktionary-logo-en-v2.svg.png 1.5x, //upload.wikimedia.org/wikipedia/commons/thumb/9/99/Wiktionary-logo-en-v2.svg/32px-Wiktionary-logo-en-v2.svg.png 2x\" width=\"16\"/>,\n",
       " <img alt=\"Category\" data-file-height=\"31\" data-file-width=\"36\" decoding=\"async\" height=\"14\" src=\"//upload.wikimedia.org/wikipedia/en/thumb/4/48/Folder_Hexagonal_Icon.svg/16px-Folder_Hexagonal_Icon.svg.png\" srcset=\"//upload.wikimedia.org/wikipedia/en/thumb/4/48/Folder_Hexagonal_Icon.svg/24px-Folder_Hexagonal_Icon.svg.png 1.5x, //upload.wikimedia.org/wikipedia/en/thumb/4/48/Folder_Hexagonal_Icon.svg/32px-Folder_Hexagonal_Icon.svg.png 2x\" title=\"Category\" width=\"16\"/>,\n",
       " <img alt=\"Commons page\" data-file-height=\"1376\" data-file-width=\"1024\" decoding=\"async\" height=\"16\" src=\"//upload.wikimedia.org/wikipedia/en/thumb/4/4a/Commons-logo.svg/12px-Commons-logo.svg.png\" srcset=\"//upload.wikimedia.org/wikipedia/en/thumb/4/4a/Commons-logo.svg/18px-Commons-logo.svg.png 1.5x, //upload.wikimedia.org/wikipedia/en/thumb/4/4a/Commons-logo.svg/24px-Commons-logo.svg.png 2x\" title=\"Commons page\" width=\"12\"/>,\n",
       " <img alt=\"Food meat\" data-file-height=\"1916\" data-file-width=\"2888\" decoding=\"async\" height=\"66\" src=\"//upload.wikimedia.org/wikipedia/commons/thumb/a/ae/FoodMeat.jpg/100px-FoodMeat.jpg\" srcset=\"//upload.wikimedia.org/wikipedia/commons/thumb/a/ae/FoodMeat.jpg/150px-FoodMeat.jpg 1.5x, //upload.wikimedia.org/wikipedia/commons/thumb/a/ae/FoodMeat.jpg/200px-FoodMeat.jpg 2x\" width=\"100\"/>,\n",
       " <img alt=\"Platter of seafood\" data-file-height=\"2029\" data-file-width=\"2029\" decoding=\"async\" height=\"100\" src=\"//upload.wikimedia.org/wikipedia/commons/thumb/a/ae/Plateau_van_zeevruchten.jpg/100px-Plateau_van_zeevruchten.jpg\" srcset=\"//upload.wikimedia.org/wikipedia/commons/thumb/a/ae/Plateau_van_zeevruchten.jpg/150px-Plateau_van_zeevruchten.jpg 1.5x, //upload.wikimedia.org/wikipedia/commons/thumb/a/ae/Plateau_van_zeevruchten.jpg/200px-Plateau_van_zeevruchten.jpg 2x\" width=\"100\"/>,\n",
       " <img alt=\"Foodlogo2.svg\" class=\"noviewer\" data-file-height=\"106\" data-file-width=\"146\" decoding=\"async\" height=\"12\" src=\"//upload.wikimedia.org/wikipedia/commons/thumb/d/d6/Foodlogo2.svg/16px-Foodlogo2.svg.png\" srcset=\"//upload.wikimedia.org/wikipedia/commons/thumb/d/d6/Foodlogo2.svg/24px-Foodlogo2.svg.png 1.5x, //upload.wikimedia.org/wikipedia/commons/thumb/d/d6/Foodlogo2.svg/32px-Foodlogo2.svg.png 2x\" width=\"16\"/>,\n",
       " <img alt=\"Category\" data-file-height=\"31\" data-file-width=\"36\" decoding=\"async\" height=\"14\" src=\"//upload.wikimedia.org/wikipedia/en/thumb/4/48/Folder_Hexagonal_Icon.svg/16px-Folder_Hexagonal_Icon.svg.png\" srcset=\"//upload.wikimedia.org/wikipedia/en/thumb/4/48/Folder_Hexagonal_Icon.svg/24px-Folder_Hexagonal_Icon.svg.png 1.5x, //upload.wikimedia.org/wikipedia/en/thumb/4/48/Folder_Hexagonal_Icon.svg/32px-Folder_Hexagonal_Icon.svg.png 2x\" title=\"Category\" width=\"16\"/>,\n",
       " <img alt=\"Toledo man oxen 3c08654v (cropped).jpg\" data-file-height=\"576\" data-file-width=\"738\" decoding=\"async\" height=\"78\" src=\"//upload.wikimedia.org/wikipedia/commons/thumb/b/bf/Toledo_man_oxen_3c08654v_%28cropped%29.jpg/100px-Toledo_man_oxen_3c08654v_%28cropped%29.jpg\" srcset=\"//upload.wikimedia.org/wikipedia/commons/thumb/b/bf/Toledo_man_oxen_3c08654v_%28cropped%29.jpg/150px-Toledo_man_oxen_3c08654v_%28cropped%29.jpg 1.5x, //upload.wikimedia.org/wikipedia/commons/thumb/b/bf/Toledo_man_oxen_3c08654v_%28cropped%29.jpg/200px-Toledo_man_oxen_3c08654v_%28cropped%29.jpg 2x\" width=\"100\"/>,\n",
       " <img alt=\"Edit this at Wikidata\" data-file-height=\"20\" data-file-width=\"20\" decoding=\"async\" height=\"10\" src=\"//upload.wikimedia.org/wikipedia/en/thumb/8/8a/OOjs_UI_icon_edit-ltr-progressive.svg/10px-OOjs_UI_icon_edit-ltr-progressive.svg.png\" srcset=\"//upload.wikimedia.org/wikipedia/en/thumb/8/8a/OOjs_UI_icon_edit-ltr-progressive.svg/15px-OOjs_UI_icon_edit-ltr-progressive.svg.png 1.5x, //upload.wikimedia.org/wikipedia/en/thumb/8/8a/OOjs_UI_icon_edit-ltr-progressive.svg/20px-OOjs_UI_icon_edit-ltr-progressive.svg.png 2x\" style=\"vertical-align: text-top\" width=\"10\"/>,\n",
       " <img alt=\"\" height=\"1\" src=\"//en.wikipedia.org/wiki/Special:CentralAutoLogin/start?type=1x1\" style=\"border: none; position: absolute;\" title=\"\" width=\"1\"/>,\n",
       " <img alt=\"Wikimedia Foundation\" height=\"31\" loading=\"lazy\" src=\"/static/images/footer/wikimedia-button.png\" srcset=\"/static/images/footer/wikimedia-button-1.5x.png 1.5x, /static/images/footer/wikimedia-button-2x.png 2x\" width=\"88\"/>,\n",
       " <img alt=\"Powered by MediaWiki\" height=\"31\" loading=\"lazy\" src=\"/static/images/footer/poweredby_mediawiki_88x31.png\" srcset=\"/static/images/footer/poweredby_mediawiki_132x47.png 1.5x, /static/images/footer/poweredby_mediawiki_176x62.png 2x\" width=\"88\"/>]"
      ]
     },
     "execution_count": 22,
     "metadata": {},
     "output_type": "execute_result"
    }
   ],
   "source": [
    "soup.select('img')"
   ]
  },
  {
   "cell_type": "code",
   "execution_count": 23,
   "metadata": {},
   "outputs": [
    {
     "data": {
      "text/plain": [
       "[<img alt=\"\" class=\"thumbimage\" data-file-height=\"3072\" data-file-width=\"2304\" decoding=\"async\" height=\"293\" src=\"//upload.wikimedia.org/wikipedia/commons/thumb/3/37/A_Quechua_girl_and_her_Llama.jpg/220px-A_Quechua_girl_and_her_Llama.jpg\" srcset=\"//upload.wikimedia.org/wikipedia/commons/thumb/3/37/A_Quechua_girl_and_her_Llama.jpg/330px-A_Quechua_girl_and_her_Llama.jpg 1.5x, //upload.wikimedia.org/wikipedia/commons/thumb/3/37/A_Quechua_girl_and_her_Llama.jpg/440px-A_Quechua_girl_and_her_Llama.jpg 2x\" width=\"220\"/>,\n",
       " <img alt=\"\" class=\"thumbimage\" data-file-height=\"1944\" data-file-width=\"2592\" decoding=\"async\" height=\"165\" src=\"//upload.wikimedia.org/wikipedia/commons/thumb/b/b8/Domestic_llama_%282009-05-19%29.jpg/220px-Domestic_llama_%282009-05-19%29.jpg\" srcset=\"//upload.wikimedia.org/wikipedia/commons/thumb/b/b8/Domestic_llama_%282009-05-19%29.jpg/330px-Domestic_llama_%282009-05-19%29.jpg 1.5x, //upload.wikimedia.org/wikipedia/commons/thumb/b/b8/Domestic_llama_%282009-05-19%29.jpg/440px-Domestic_llama_%282009-05-19%29.jpg 2x\" width=\"220\"/>,\n",
       " <img alt=\"\" class=\"thumbimage\" data-file-height=\"3330\" data-file-width=\"2663\" decoding=\"async\" height=\"375\" src=\"//upload.wikimedia.org/wikipedia/commons/thumb/7/7b/Llama_skeleton_at_MAV-USP.jpg/300px-Llama_skeleton_at_MAV-USP.jpg\" srcset=\"//upload.wikimedia.org/wikipedia/commons/thumb/7/7b/Llama_skeleton_at_MAV-USP.jpg/450px-Llama_skeleton_at_MAV-USP.jpg 1.5x, //upload.wikimedia.org/wikipedia/commons/thumb/7/7b/Llama_skeleton_at_MAV-USP.jpg/600px-Llama_skeleton_at_MAV-USP.jpg 2x\" width=\"300\"/>,\n",
       " <img alt=\"\" class=\"thumbimage\" data-file-height=\"1054\" data-file-width=\"1022\" decoding=\"async\" height=\"309\" src=\"//upload.wikimedia.org/wikipedia/commons/thumb/e/ed/Llama_with_numbers.svg/300px-Llama_with_numbers.svg.png\" srcset=\"//upload.wikimedia.org/wikipedia/commons/thumb/e/ed/Llama_with_numbers.svg/450px-Llama_with_numbers.svg.png 1.5x, //upload.wikimedia.org/wikipedia/commons/thumb/e/ed/Llama_with_numbers.svg/600px-Llama_with_numbers.svg.png 2x\" width=\"300\"/>,\n",
       " <img alt=\"\" class=\"thumbimage\" data-file-height=\"4000\" data-file-width=\"6000\" decoding=\"async\" height=\"147\" src=\"//upload.wikimedia.org/wikipedia/commons/thumb/2/2e/Lama_glama_Laguna_Colorada_2.jpg/220px-Lama_glama_Laguna_Colorada_2.jpg\" srcset=\"//upload.wikimedia.org/wikipedia/commons/thumb/2/2e/Lama_glama_Laguna_Colorada_2.jpg/330px-Lama_glama_Laguna_Colorada_2.jpg 1.5x, //upload.wikimedia.org/wikipedia/commons/thumb/2/2e/Lama_glama_Laguna_Colorada_2.jpg/440px-Lama_glama_Laguna_Colorada_2.jpg 2x\" width=\"220\"/>,\n",
       " <img alt=\"\" class=\"thumbimage\" data-file-height=\"3648\" data-file-width=\"5472\" decoding=\"async\" height=\"200\" src=\"//upload.wikimedia.org/wikipedia/commons/thumb/c/cd/Black_Llama.jpg/300px-Black_Llama.jpg\" srcset=\"//upload.wikimedia.org/wikipedia/commons/thumb/c/cd/Black_Llama.jpg/450px-Black_Llama.jpg 1.5x, //upload.wikimedia.org/wikipedia/commons/thumb/c/cd/Black_Llama.jpg/600px-Black_Llama.jpg 2x\" width=\"300\"/>,\n",
       " <img alt=\"\" class=\"thumbimage\" data-file-height=\"600\" data-file-width=\"800\" decoding=\"async\" height=\"165\" src=\"//upload.wikimedia.org/wikipedia/commons/thumb/6/68/Lloyd_the_Llama.jpg/220px-Lloyd_the_Llama.jpg\" srcset=\"//upload.wikimedia.org/wikipedia/commons/thumb/6/68/Lloyd_the_Llama.jpg/330px-Lloyd_the_Llama.jpg 1.5x, //upload.wikimedia.org/wikipedia/commons/thumb/6/68/Lloyd_the_Llama.jpg/440px-Lloyd_the_Llama.jpg 2x\" width=\"220\"/>,\n",
       " <img alt=\"\" class=\"thumbimage\" data-file-height=\"2592\" data-file-width=\"3888\" decoding=\"async\" height=\"150\" src=\"//upload.wikimedia.org/wikipedia/commons/thumb/c/c0/Llama_guarding_sheep.jpg/225px-Llama_guarding_sheep.jpg\" srcset=\"//upload.wikimedia.org/wikipedia/commons/thumb/c/c0/Llama_guarding_sheep.jpg/338px-Llama_guarding_sheep.jpg 1.5x, //upload.wikimedia.org/wikipedia/commons/thumb/c/c0/Llama_guarding_sheep.jpg/450px-Llama_guarding_sheep.jpg 2x\" width=\"225\"/>,\n",
       " <img alt=\"\" class=\"thumbimage\" data-file-height=\"1980\" data-file-width=\"2021\" decoding=\"async\" height=\"216\" src=\"//upload.wikimedia.org/wikipedia/commons/thumb/0/0e/Lombards_Museum_005_bis.jpg/220px-Lombards_Museum_005_bis.jpg\" srcset=\"//upload.wikimedia.org/wikipedia/commons/thumb/0/0e/Lombards_Museum_005_bis.jpg/330px-Lombards_Museum_005_bis.jpg 1.5x, //upload.wikimedia.org/wikipedia/commons/thumb/0/0e/Lombards_Museum_005_bis.jpg/440px-Lombards_Museum_005_bis.jpg 2x\" width=\"220\"/>,\n",
       " <img alt=\"\" class=\"thumbimage\" data-file-height=\"1800\" data-file-width=\"1662\" decoding=\"async\" height=\"238\" src=\"//upload.wikimedia.org/wikipedia/commons/thumb/8/83/Chancay_-_Llama_Effigy_-_Walters_20092049.jpg/220px-Chancay_-_Llama_Effigy_-_Walters_20092049.jpg\" srcset=\"//upload.wikimedia.org/wikipedia/commons/thumb/8/83/Chancay_-_Llama_Effigy_-_Walters_20092049.jpg/330px-Chancay_-_Llama_Effigy_-_Walters_20092049.jpg 1.5x, //upload.wikimedia.org/wikipedia/commons/thumb/8/83/Chancay_-_Llama_Effigy_-_Walters_20092049.jpg/440px-Chancay_-_Llama_Effigy_-_Walters_20092049.jpg 2x\" width=\"220\"/>,\n",
       " <img alt=\"\" class=\"thumbimage\" data-file-height=\"434\" data-file-width=\"408\" decoding=\"async\" height=\"234\" src=\"//upload.wikimedia.org/wikipedia/commons/thumb/d/d1/Guanacos-llamas-el-primero-imagen-en-europa-1553.jpg/220px-Guanacos-llamas-el-primero-imagen-en-europa-1553.jpg\" srcset=\"//upload.wikimedia.org/wikipedia/commons/thumb/d/d1/Guanacos-llamas-el-primero-imagen-en-europa-1553.jpg/330px-Guanacos-llamas-el-primero-imagen-en-europa-1553.jpg 1.5x, //upload.wikimedia.org/wikipedia/commons/d/d1/Guanacos-llamas-el-primero-imagen-en-europa-1553.jpg 2x\" width=\"220\"/>,\n",
       " <img alt=\"\" class=\"thumbimage\" data-file-height=\"723\" data-file-width=\"1024\" decoding=\"async\" height=\"155\" src=\"//upload.wikimedia.org/wikipedia/commons/thumb/d/d7/Handspun_llama_yarn.jpg/220px-Handspun_llama_yarn.jpg\" srcset=\"//upload.wikimedia.org/wikipedia/commons/thumb/d/d7/Handspun_llama_yarn.jpg/330px-Handspun_llama_yarn.jpg 1.5x, //upload.wikimedia.org/wikipedia/commons/thumb/d/d7/Handspun_llama_yarn.jpg/440px-Handspun_llama_yarn.jpg 2x\" width=\"220\"/>]"
      ]
     },
     "execution_count": 23,
     "metadata": {},
     "output_type": "execute_result"
    }
   ],
   "source": [
    "soup.select('.thumbimage')\n"
   ]
  },
  {
   "cell_type": "code",
   "execution_count": 24,
   "metadata": {},
   "outputs": [
    {
     "data": {
      "text/plain": [
       "<img alt=\"\" class=\"thumbimage\" data-file-height=\"3072\" data-file-width=\"2304\" decoding=\"async\" height=\"293\" src=\"//upload.wikimedia.org/wikipedia/commons/thumb/3/37/A_Quechua_girl_and_her_Llama.jpg/220px-A_Quechua_girl_and_her_Llama.jpg\" srcset=\"//upload.wikimedia.org/wikipedia/commons/thumb/3/37/A_Quechua_girl_and_her_Llama.jpg/330px-A_Quechua_girl_and_her_Llama.jpg 1.5x, //upload.wikimedia.org/wikipedia/commons/thumb/3/37/A_Quechua_girl_and_her_Llama.jpg/440px-A_Quechua_girl_and_her_Llama.jpg 2x\" width=\"220\"/>"
      ]
     },
     "execution_count": 24,
     "metadata": {},
     "output_type": "execute_result"
    }
   ],
   "source": [
    "soup.select('.thumbimage')[0]"
   ]
  },
  {
   "cell_type": "code",
   "execution_count": 25,
   "metadata": {},
   "outputs": [],
   "source": [
    "lama = soup.select('.thumbimage')[0]"
   ]
  },
  {
   "cell_type": "code",
   "execution_count": 26,
   "metadata": {},
   "outputs": [
    {
     "data": {
      "text/plain": [
       "['thumbimage']"
      ]
     },
     "execution_count": 26,
     "metadata": {},
     "output_type": "execute_result"
    }
   ],
   "source": [
    "lama['class']"
   ]
  },
  {
   "cell_type": "code",
   "execution_count": 27,
   "metadata": {},
   "outputs": [
    {
     "data": {
      "text/plain": [
       "'//upload.wikimedia.org/wikipedia/commons/thumb/3/37/A_Quechua_girl_and_her_Llama.jpg/220px-A_Quechua_girl_and_her_Llama.jpg'"
      ]
     },
     "execution_count": 27,
     "metadata": {},
     "output_type": "execute_result"
    }
   ],
   "source": [
    "lama['src']"
   ]
  },
  {
   "cell_type": "markdown",
   "metadata": {},
   "source": [
    "<img src = '//upload.wikimedia.org/wikipedia/commons/thumb/3/37/A_Quechua_girl_and_her_Llama.jpg/220px-A_Quechua_girl_and_her_Llama.jpg'>"
   ]
  },
  {
   "cell_type": "code",
   "execution_count": 28,
   "metadata": {},
   "outputs": [],
   "source": [
    "image_link = requests.get('http://upload.wikimedia.org/wikipedia/commons/thumb/3/37/A_Quechua_girl_and_her_Llama.jpg/220px-A_Quechua_girl_and_her_Llama.jpg')"
   ]
  },
  {
   "cell_type": "code",
   "execution_count": 29,
   "metadata": {},
   "outputs": [],
   "source": [
    "# image_link.content"
   ]
  },
  {
   "cell_type": "code",
   "execution_count": 30,
   "metadata": {},
   "outputs": [
    {
     "data": {
      "text/plain": [
       "'/Users/ana/Documents/udemy/Data structure basics/09_Web scraping '"
      ]
     },
     "execution_count": 30,
     "metadata": {},
     "output_type": "execute_result"
    }
   ],
   "source": [
    "pwd"
   ]
  },
  {
   "cell_type": "code",
   "execution_count": 31,
   "metadata": {},
   "outputs": [],
   "source": [
    "f = open('/Users/ana/Desktop/lama.jpg', 'wb') # mode = wb (write binary)"
   ]
  },
  {
   "cell_type": "code",
   "execution_count": 32,
   "metadata": {},
   "outputs": [
    {
     "data": {
      "text/plain": [
       "22207"
      ]
     },
     "execution_count": 32,
     "metadata": {},
     "output_type": "execute_result"
    }
   ],
   "source": [
    "f.write(image_link.content)"
   ]
  },
  {
   "cell_type": "code",
   "execution_count": 33,
   "metadata": {},
   "outputs": [],
   "source": [
    "f.close()"
   ]
  }
 ],
 "metadata": {
  "kernelspec": {
   "display_name": "Python 3",
   "language": "python",
   "name": "python3"
  },
  "language_info": {
   "codemirror_mode": {
    "name": "ipython",
    "version": 3
   },
   "file_extension": ".py",
   "mimetype": "text/x-python",
   "name": "python",
   "nbconvert_exporter": "python",
   "pygments_lexer": "ipython3",
   "version": "3.8.3"
  }
 },
 "nbformat": 4,
 "nbformat_minor": 4
}
