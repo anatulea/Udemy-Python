{
 "cells": [
  {
   "cell_type": "markdown",
   "metadata": {},
   "source": [
    "# Getting Directories"
   ]
  },
  {
   "cell_type": "code",
   "execution_count": 1,
   "metadata": {},
   "outputs": [
    {
     "data": {
      "text/plain": [
       "'/Users/ana/Documents/udemy/Data structure basics'"
      ]
     },
     "execution_count": 1,
     "metadata": {},
     "output_type": "execute_result"
    }
   ],
   "source": [
    "pwd"
   ]
  },
  {
   "cell_type": "code",
   "execution_count": 2,
   "metadata": {},
   "outputs": [],
   "source": [
    "f = open('practice.txt', 'w+')\n",
    "f.write('This is a test string')\n",
    "f.close()"
   ]
  },
  {
   "cell_type": "markdown",
   "metadata": {},
   "source": [
    "# Listing Files in a Directory"
   ]
  },
  {
   "cell_type": "code",
   "execution_count": 3,
   "metadata": {},
   "outputs": [],
   "source": [
    "import os"
   ]
  },
  {
   "cell_type": "code",
   "execution_count": 4,
   "metadata": {},
   "outputs": [
    {
     "data": {
      "text/plain": [
       "'/Users/ana/Documents/udemy/Data structure basics'"
      ]
     },
     "execution_count": 4,
     "metadata": {},
     "output_type": "execute_result"
    }
   ],
   "source": [
    "os.getcwd() # get current working directory"
   ]
  },
  {
   "cell_type": "code",
   "execution_count": 5,
   "metadata": {},
   "outputs": [
    {
     "data": {
      "text/plain": [
       "['04-object oriented programing',\n",
       " '07-Decorators and Generators',\n",
       " '06-Project 2',\n",
       " '12-Advanced Python Modules',\n",
       " '.DS_Store',\n",
       " '00-python-basics',\n",
       " 'practice.txt',\n",
       " '03-Project 1',\n",
       " 'README.md',\n",
       " 'myprogram.py',\n",
       " '01-Python Statements',\n",
       " 'mymodule.pyc',\n",
       " 'MyMainPackage',\n",
       " '02-Methods and functions',\n",
       " '01-Opening-and-Reading-Files-Folders.ipynb',\n",
       " 'mymodule.py',\n",
       " '.ipynb_checkpoints',\n",
       " '.git',\n",
       " '05-Errors']"
      ]
     },
     "execution_count": 5,
     "metadata": {},
     "output_type": "execute_result"
    }
   ],
   "source": [
    "os.listdir() # list all the items in a curent working directory "
   ]
  },
  {
   "cell_type": "code",
   "execution_count": 6,
   "metadata": {},
   "outputs": [
    {
     "data": {
      "text/plain": [
       "['udemy-first-simple-test',\n",
       " '.DS_Store',\n",
       " 'dragonstack-guides',\n",
       " 'jotto',\n",
       " 'Data structure basics',\n",
       " 'udemy-react-testing-projects']"
      ]
     },
     "execution_count": 6,
     "metadata": {},
     "output_type": "execute_result"
    }
   ],
   "source": [
    "os.listdir('/Users/ana/Documents/udemy/')  # list all the items in a specific path"
   ]
  },
  {
   "cell_type": "code",
   "execution_count": null,
   "metadata": {},
   "outputs": [],
   "source": []
  },
  {
   "cell_type": "markdown",
   "metadata": {},
   "source": [
    "# Moving Files"
   ]
  },
  {
   "cell_type": "code",
   "execution_count": 7,
   "metadata": {},
   "outputs": [],
   "source": [
    "import shutil # shell utility module is used to move files to different locations"
   ]
  },
  {
   "cell_type": "code",
   "execution_count": 8,
   "metadata": {},
   "outputs": [
    {
     "data": {
      "text/plain": [
       "'/Users/ana/Documents/practice.txt'"
      ]
     },
     "execution_count": 8,
     "metadata": {},
     "output_type": "execute_result"
    }
   ],
   "source": [
    "shutil.move('practice.txt','/Users/ana/Documents' )   # args are (src , destination)"
   ]
  },
  {
   "cell_type": "code",
   "execution_count": 9,
   "metadata": {},
   "outputs": [
    {
     "data": {
      "text/plain": [
       "['udemy',\n",
       " '.DS_Store',\n",
       " '.localized',\n",
       " 'Images',\n",
       " 'practice.txt',\n",
       " 'Desktop',\n",
       " 'personal projects',\n",
       " 'extra',\n",
       " 'EconomyGraph',\n",
       " 'lambda',\n",
       " 'IMPORTANT docs',\n",
       " 'juxta-city-data-fe']"
      ]
     },
     "execution_count": 9,
     "metadata": {},
     "output_type": "execute_result"
    }
   ],
   "source": [
    "os.listdir('/Users/ana/Documents/')"
   ]
  },
  {
   "cell_type": "markdown",
   "metadata": {},
   "source": [
    "# Deleting Files"
   ]
  },
  {
   "cell_type": "markdown",
   "metadata": {},
   "source": [
    "**NOTE: The os module provides 3 methods for deleting files:**\n",
    "\n",
    "* os.unlink(path) which deletes a file at the path your provide\n",
    "* os.rmdir(path) which deletes a folder (folder must be empty) at the path your provide\n",
    "* shutil.rmtree(path) this is the most dangerous, as it will remove all files and folders contained in the path. \n",
    "\n",
    "**All of these methods can not be reversed! Which means if you make a mistake you will not be able to recover the file. Instead we will use the send2trash module. A safer alternative that sends deleted files to the trash bin instead of permanent removal.**\n",
    "\n",
    "Install the send2trash module with:\n",
    "\n",
    "    pip install send2trash\n",
    "    \n",
    "at your command line."
   ]
  },
  {
   "cell_type": "code",
   "execution_count": 10,
   "metadata": {},
   "outputs": [],
   "source": [
    "import send2trash"
   ]
  },
  {
   "cell_type": "code",
   "execution_count": 11,
   "metadata": {},
   "outputs": [
    {
     "data": {
      "text/plain": [
       "['udemy',\n",
       " '.DS_Store',\n",
       " '.localized',\n",
       " 'Images',\n",
       " 'practice.txt',\n",
       " 'Desktop',\n",
       " 'personal projects',\n",
       " 'extra',\n",
       " 'EconomyGraph',\n",
       " 'lambda',\n",
       " 'IMPORTANT docs',\n",
       " 'juxta-city-data-fe']"
      ]
     },
     "execution_count": 11,
     "metadata": {},
     "output_type": "execute_result"
    }
   ],
   "source": [
    "os.listdir('/Users/ana/Documents/')"
   ]
  },
  {
   "cell_type": "code",
   "execution_count": 12,
   "metadata": {},
   "outputs": [
    {
     "data": {
      "text/plain": [
       "'/Users/ana/Documents/udemy/Data structure basics/practice.txt'"
      ]
     },
     "execution_count": 12,
     "metadata": {},
     "output_type": "execute_result"
    }
   ],
   "source": [
    "shutil.move('/Users/ana/Documents/practice.txt', os.getcwd())"
   ]
  },
  {
   "cell_type": "code",
   "execution_count": 14,
   "metadata": {},
   "outputs": [
    {
     "data": {
      "text/plain": [
       "['04-object oriented programing',\n",
       " '07-Decorators and Generators',\n",
       " '06-Project 2',\n",
       " '12-Advanced Python Modules',\n",
       " '.DS_Store',\n",
       " '00-python-basics',\n",
       " 'practice.txt',\n",
       " '03-Project 1',\n",
       " 'README.md',\n",
       " 'myprogram.py',\n",
       " '01-Python Statements',\n",
       " 'mymodule.pyc',\n",
       " 'MyMainPackage',\n",
       " '02-Methods and functions',\n",
       " '01-Opening-and-Reading-Files-Folders.ipynb',\n",
       " 'mymodule.py',\n",
       " '.ipynb_checkpoints',\n",
       " '.git',\n",
       " '05-Errors']"
      ]
     },
     "execution_count": 14,
     "metadata": {},
     "output_type": "execute_result"
    }
   ],
   "source": [
    "os.listdir()"
   ]
  },
  {
   "cell_type": "code",
   "execution_count": 15,
   "metadata": {},
   "outputs": [],
   "source": [
    "send2trash.send2trash('practice.txt')"
   ]
  },
  {
   "cell_type": "code",
   "execution_count": 16,
   "metadata": {},
   "outputs": [
    {
     "data": {
      "text/plain": [
       "['04-object oriented programing',\n",
       " '07-Decorators and Generators',\n",
       " '06-Project 2',\n",
       " '12-Advanced Python Modules',\n",
       " '.DS_Store',\n",
       " '00-python-basics',\n",
       " '03-Project 1',\n",
       " 'README.md',\n",
       " 'myprogram.py',\n",
       " '01-Python Statements',\n",
       " 'mymodule.pyc',\n",
       " 'MyMainPackage',\n",
       " '02-Methods and functions',\n",
       " '01-Opening-and-Reading-Files-Folders.ipynb',\n",
       " 'mymodule.py',\n",
       " '.ipynb_checkpoints',\n",
       " '.git',\n",
       " '05-Errors']"
      ]
     },
     "execution_count": 16,
     "metadata": {},
     "output_type": "execute_result"
    }
   ],
   "source": [
    "os.listdir()"
   ]
  },
  {
   "cell_type": "code",
   "execution_count": null,
   "metadata": {},
   "outputs": [],
   "source": []
  },
  {
   "cell_type": "markdown",
   "metadata": {},
   "source": [
    "##Walking through a directory¶\n",
    "Often you will just need to \"walk\" through a directory, that is visit every file or folder and check to see if a file is in the directory, and then perhaps do something with that file. Usually recursively walking through every file and folder in a directory would be quite tricky to program, but luckily the os module has a direct method call for this called os.walk(). Let's explore how it works."
   ]
  },
  {
   "cell_type": "code",
   "execution_count": 17,
   "metadata": {},
   "outputs": [
    {
     "data": {
      "text/plain": [
       "<function os.walk(top, topdown=True, onerror=None, followlinks=False)>"
      ]
     },
     "execution_count": 17,
     "metadata": {},
     "output_type": "execute_result"
    }
   ],
   "source": [
    "os.walk"
   ]
  },
  {
   "cell_type": "code",
   "execution_count": 31,
   "metadata": {
    "scrolled": true
   },
   "outputs": [
    {
     "name": "stdout",
     "output_type": "stream",
     "text": [
      "looking at ~~~~~~/Users/ana/Downloads/Complete-Python-3-Bootcamp-master/12-Advanced Python Modules/Example_Top_Level\n",
      "\n",
      "\n",
      "the subfolders are: \n",
      " subfolder++++>Mid-Example-One\n",
      "\n",
      "\n",
      "the fiels are: \n",
      " subfolder:--->['Mid-Example.txt']\n",
      "\n",
      "\n",
      "looking at ~~~~~~/Users/ana/Downloads/Complete-Python-3-Bootcamp-master/12-Advanced Python Modules/Example_Top_Level/Mid-Example-One\n",
      "\n",
      "\n",
      "the subfolders are: \n",
      " subfolder++++>Bottom-Level-Two\n",
      " subfolder++++>Bottom-Level-One\n",
      "\n",
      "\n",
      "the fiels are: \n",
      " subfolder:--->['Mid-Level-Doc.txt']\n",
      "\n",
      "\n",
      "looking at ~~~~~~/Users/ana/Downloads/Complete-Python-3-Bootcamp-master/12-Advanced Python Modules/Example_Top_Level/Mid-Example-One/Bottom-Level-Two\n",
      "\n",
      "\n",
      "the subfolders are: \n",
      "\n",
      "\n",
      "the fiels are: \n",
      " subfolder:--->['Bottom-Text-Two.txt']\n",
      "\n",
      "\n",
      "looking at ~~~~~~/Users/ana/Downloads/Complete-Python-3-Bootcamp-master/12-Advanced Python Modules/Example_Top_Level/Mid-Example-One/Bottom-Level-One\n",
      "\n",
      "\n",
      "the subfolders are: \n",
      "\n",
      "\n",
      "the fiels are: \n",
      " subfolder:--->['One_Text.txt']\n",
      "\n",
      "\n"
     ]
    }
   ],
   "source": [
    "wpath= '/Users/ana/Downloads/Complete-Python-3-Bootcamp-master/12-Advanced Python Modules/Example_Top_Level'\n",
    "for folder, sub_folders, files in os.walk(wpath):\n",
    "    \n",
    "    print(f'looking at ~~~~~~{folder}')\n",
    "    print('\\n')\n",
    "    print('the subfolders are: ')\n",
    "    for sub_fold in sub_folders:\n",
    "        print(f' subfolder++++>{sub_fold}')\n",
    "    print('\\n')\n",
    "    print('the fiels are: ')\n",
    "    for f in files:\n",
    "        print(f' subfolder:--->{files}')\n",
    "    print('\\n')\n",
    "\n"
   ]
  },
  {
   "cell_type": "markdown",
   "metadata": {},
   "source": []
  },
  {
   "cell_type": "code",
   "execution_count": null,
   "metadata": {},
   "outputs": [],
   "source": []
  }
 ],
 "metadata": {
  "kernelspec": {
   "display_name": "Python 3",
   "language": "python",
   "name": "python3"
  },
  "language_info": {
   "codemirror_mode": {
    "name": "ipython",
    "version": 3
   },
   "file_extension": ".py",
   "mimetype": "text/x-python",
   "name": "python",
   "nbconvert_exporter": "python",
   "pygments_lexer": "ipython3",
   "version": "3.8.3"
  }
 },
 "nbformat": 4,
 "nbformat_minor": 4
}
